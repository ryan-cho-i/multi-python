{
 "cells": [
  {
   "cell_type": "markdown",
   "metadata": {},
   "source": [
    "## 1. Process VS Thread\n",
    "\n",
    "1. Process \n",
    "\n",
    "- 운영체제에서 할당을 받는 자원 단위 (실행 중인 프로그램)\n",
    "- CPU 동작 시간, 주소 공간 (독립적)\n",
    "- Code, Data, Stack, Heap -> 독립적\n",
    "- 최소 1개의 메인 스레드를 보유\n",
    "- 파이프, 파일, 소켓 등을 사용해서 프로세스 간 통신이 가능 (Cost 높음) -> Context Switching\n",
    "\n",
    "2. Thread\n",
    "\n",
    "- 프로세스 내에 실행 흐름 단위 \n",
    "- 프로세스 자원 사용\n",
    "- Stack 만 별도로 사용 (할당) 하고, 나머지는 (Code, Data, Heap) 공유한다. \n",
    "- 즉 메모리는 공유 (변수 공유)\n",
    "- 한 스레드의 결과가 다른 스레드에 영향을 끼침\n",
    "- 동기화 문제는 정말 주의해야 한다. (디버깅이 어렵다.)\n",
    "\n",
    "3. Multi Thread\n",
    "\n",
    "- 한 개의 단일 어플리케이션 (응용프로그램) -> 여러 스레드로 구성 후 작업 처리 \n",
    "- 시스템 자원 소모 감소 (효율성), 처리량 증가 (Cost 감소)\n",
    "- 통신 부담 감소, 디버깅은 어려움, 단일 프로세스에는 효과가 미약, 자원 공유 문제 (교착 상태), 프로세스에 영향을 준다. \n",
    "\n",
    "4. Multi Process\n",
    "- 한 개의 단일 어플리케이션 (응용프로그램) -> 여러 프로세스로 구성 후 작업 처리\n",
    "- 한 개의 프로세스 문제 발생은 확산이 없음 (프로세스 Kill 가능)\n",
    "- 캐시 체인지, Cost 비용이 높음 (오버헤드), 복잡한 통신 사용\n",
    "\n"
   ]
  },
  {
   "cell_type": "markdown",
   "metadata": {},
   "source": [
    "## 2. Python Gil?\n",
    "\n",
    "1. Gil (Global Interpreter Lock)\n",
    "    CPython 로 Python (bytecode) 를 실행 시 여러 thread 를 사용할 경우 \n",
    "단일 스레드만이 Python Object 에 접근할 수 있도록 제한하는 Mutex\n",
    "\n",
    "2. CPython 이 메모리 관리에 취약하기 때문 (즉, Thread-Safe 하지 않기 때문에)\n",
    "\n",
    "3.  단일 스레드로도 충분히 빠르다. \n",
    "\n",
    "4. 프로세스 사용 가능 (Numpy / Scipy) 등 Gil 외부 영역에서 효율적인 코딩\n",
    "\n",
    "5. 병렬 처리는 Multiprocessing, asyncio 등 선택지가 다양하다.\n",
    "\n",
    "6. Thread 동시성을 완벽 처리를 위해 -> Jython, IronPython, Stackless Python 등이 존재한다. "
   ]
  },
  {
   "cell_type": "code",
   "execution_count": 3,
   "metadata": {},
   "outputs": [
    {
     "name": "stderr",
     "output_type": "stream",
     "text": [
      "19:58:38:Main-Thread: before creating thread\n",
      "19:58:38:Main-Thread: before running thread\n",
      "19:58:38:Sub-Thread First: starting\n",
      "19:58:38:Main-Thread: wait for the thread to finish\n",
      "19:58:38:Main-Thread: all done\n"
     ]
    },
    {
     "name": "stderr",
     "output_type": "stream",
     "text": [
      "19:58:41:Sub-Thread First: finishing\n"
     ]
    }
   ],
   "source": [
    "import logging\n",
    "import threading\n",
    "import time\n",
    "\n",
    "def thread_func(name):\n",
    "    logging.info(\"Sub-Thread %s: starting\", name)\n",
    "    time.sleep(3)\n",
    "    logging.info(\"Sub-Thread %s: finishing\", name)\n",
    "\n",
    "# Main Domain\n",
    "\n",
    "if __name__ == \"__main__\":\n",
    "    # Logging Format \n",
    "    format = \"%(asctime)s:%(message)s\"\n",
    "    logging.basicConfig(format=format, level=logging.INFO, datefmt=\"%H:%M:%S\")\n",
    "    logging.info(\"Main-Thread: before creating thread\")\n",
    "\n",
    "    # 함수 인자 확인 \n",
    "    x = threading.Thread(target=thread_func, args=(\"First\",))\n",
    "\n",
    "    logging.info(\"Main-Thread: before running thread\")\n",
    "\n",
    "    # Start Sub\n",
    "    x.start()\n",
    "\n",
    "    # # 자식이 끝날때까지, main 은 기달림.\n",
    "    # x.join()\n",
    "\n",
    "    logging.info(\"Main-Thread: wait for the thread to finish\")\n",
    "\n",
    "    logging.info(\"Main-Thread: all done\")\n",
    "\n",
    "# Main Thread 가 끝났다고 하더라도, Sub Thread 는 계속 작업을 진행한다."
   ]
  },
  {
   "cell_type": "code",
   "execution_count": null,
   "metadata": {},
   "outputs": [],
   "source": []
  }
 ],
 "metadata": {
  "kernelspec": {
   "display_name": "Python 3",
   "language": "python",
   "name": "python3"
  },
  "language_info": {
   "codemirror_mode": {
    "name": "ipython",
    "version": 3
   },
   "file_extension": ".py",
   "mimetype": "text/x-python",
   "name": "python",
   "nbconvert_exporter": "python",
   "pygments_lexer": "ipython3",
   "version": "3.10.12"
  },
  "orig_nbformat": 4
 },
 "nbformat": 4,
 "nbformat_minor": 2
}
